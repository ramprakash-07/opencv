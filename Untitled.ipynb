{
 "cells": [
  {
   "cell_type": "code",
   "execution_count": 1,
   "id": "f5ecee76-0b81-4e73-b08f-9c00ee162b14",
   "metadata": {},
   "outputs": [],
   "source": [
    "import cv2\n",
    "import numpy as np"
   ]
  },
  {
   "cell_type": "code",
   "execution_count": 5,
   "id": "747c9123-d36c-49d5-aa06-beba4e228c03",
   "metadata": {},
   "outputs": [
    {
     "data": {
      "text/plain": [
       "'cv2.imshow(\"chess\",img)\\ncv2.waitKey(0)\\ncv2.destroyAllWindows()'"
      ]
     },
     "execution_count": 5,
     "metadata": {},
     "output_type": "execute_result"
    }
   ],
   "source": [
    "img=cv2.imread('datas/chess.jpg')\n",
    "img=cv2.resize(img,(0,0),fx=0.5,fy=0.5)\n",
    "img=cv2.flip(img,1)\n",
    "\"\"\"cv2.imshow(\"chess\",img)\n",
    "cv2.waitKey(0)\n",
    "cv2.destroyAllWindows()\"\"\"\n"
   ]
  },
  {
   "cell_type": "code",
   "execution_count": 4,
   "id": "7c01e6e1-243a-46f3-87f6-20bf3be159f2",
   "metadata": {},
   "outputs": [],
   "source": [
    "cam=cv2.VideoCapture(0)\n",
    "while(True):\n",
    "    ret,frame=cam.read()\n",
    "    frame1=cv2.cvtColor(frame,cv2.COLOR_BGR2GRAY)\n",
    "    cv2.imshow(\"webcam\",frame1)\n",
    "    if cv2.waitKey(1) == ord(\"z\"):\n",
    "        break\n",
    "cam.release()\n",
    "cv2.destroyAllWindows()"
   ]
  },
  {
   "cell_type": "markdown",
   "id": "e6d6ce0a-29db-4719-a9a6-3595b1d4cbf9",
   "metadata": {},
   "source": [
    "#shapes\n"
   ]
  },
  {
   "cell_type": "code",
   "execution_count": 4,
   "id": "4700265f-40e5-4e7e-a984-fe190e9ca3c8",
   "metadata": {},
   "outputs": [
    {
     "data": {
      "text/plain": [
       "<function destroyAllWindows>"
      ]
     },
     "execution_count": 4,
     "metadata": {},
     "output_type": "execute_result"
    }
   ],
   "source": [
    "img = np.zeros((1000, 1000, 3), dtype=np.uint8)\n",
    "cv2.line(img,(0,0),(50,50),(0,0,255),10)\n",
    "cv2.rectangle(img, (120, 50), (220, 150), (0, 255, 0), 3)\n",
    "cv2.circle(img, (150, 200), 40, (255, 0, 0), 4)\n",
    "cv2.imshow(\"line\",img)\n",
    "cv2.waitKey(0)\n",
    "cv2.destroyAllWindows\n"
   ]
  },
  {
   "cell_type": "code",
   "execution_count": 3,
   "id": "ae3c7670-c48c-43c8-9c8b-79ebdcc1aa78",
   "metadata": {},
   "outputs": [
    {
     "name": "stderr",
     "output_type": "stream",
     "text": [
      "C:\\Users\\Ram\\AppData\\Local\\Temp\\ipykernel_6496\\1782576493.py:6: DeprecationWarning: `np.int0` is a deprecated alias for `np.intp`.  (Deprecated NumPy 1.24)\n",
      "  corners = np.int0(corners)\n"
     ]
    }
   ],
   "source": [
    "img=cv2.imread('datas/chess.jpg')\n",
    "img = cv2.resize(img, (0, 0), fx=0.75, fy=0.75)\n",
    "gray = cv2.cvtColor(img, cv2.COLOR_BGR2GRAY)\n",
    "\n",
    "corners = cv2.goodFeaturesToTrack(gray, 100, 0.01, 10)\n",
    "corners = np.int0(corners)\n",
    "\n",
    "for corner in corners:\n",
    "\tx, y = corner.ravel()\n",
    "\tcv2.circle(img, (x, y), 5, (255, 0, 0), -1)\n",
    "\n",
    "\"\"\"for i in range(len(corners)):\n",
    "\tfor j in range(i + 1, len(corners)):\n",
    "\t\tcorner1 = tuple(corners[i][0])\n",
    "\t\tcorner2 = tuple(corners[j][0])\n",
    "\t\tcolor = tuple(map(lambda x: int(x), np.random.randint(0, 255, size=3)))\n",
    "\t\tcv2.line(img, corner1, corner2, color, 1)\"\"\"\n",
    "\n",
    "cv2.imshow('Frame', img)\n",
    "cv2.waitKey(0)\n",
    "cv2.destroyAllWindows()"
   ]
  },
  {
   "cell_type": "code",
   "execution_count": null,
   "id": "bda3a50e-a2b7-468f-8774-9412eef553bb",
   "metadata": {},
   "outputs": [],
   "source": []
  }
 ],
 "metadata": {
  "kernelspec": {
   "display_name": "Python 3 (ipykernel)",
   "language": "python",
   "name": "python3"
  },
  "language_info": {
   "codemirror_mode": {
    "name": "ipython",
    "version": 3
   },
   "file_extension": ".py",
   "mimetype": "text/x-python",
   "name": "python",
   "nbconvert_exporter": "python",
   "pygments_lexer": "ipython3",
   "version": "3.12.7"
  }
 },
 "nbformat": 4,
 "nbformat_minor": 5
}
