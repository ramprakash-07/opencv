{
 "cells": [
  {
   "cell_type": "code",
   "execution_count": 2,
   "id": "f5ecee76-0b81-4e73-b08f-9c00ee162b14",
   "metadata": {},
   "outputs": [],
   "source": [
    "import cv2"
   ]
  },
  {
   "cell_type": "code",
   "execution_count": 3,
   "id": "747c9123-d36c-49d5-aa06-beba4e228c03",
   "metadata": {},
   "outputs": [
    {
     "data": {
      "text/plain": [
       "'cv2.imshow(\"chess\",img)\\ncv2.waitKey(0)\\ncv2.destroyAllWindows()'"
      ]
     },
     "execution_count": 3,
     "metadata": {},
     "output_type": "execute_result"
    }
   ],
   "source": [
    "img=cv2.imread('datas/chess.jpg')\n",
    "img=cv2.resize(img,(0,0),fx=0.5,fy=0.5)\n",
    "img=cv2.flip(img,1)\n",
    "\"\"\"cv2.imshow(\"chess\",img)\n",
    "cv2.waitKey(0)\n",
    "cv2.destroyAllWindows()\"\"\"\n"
   ]
  },
  {
   "cell_type": "code",
   "execution_count": 6,
   "id": "7c01e6e1-243a-46f3-87f6-20bf3be159f2",
   "metadata": {},
   "outputs": [],
   "source": [
    "cam=cv2.VideoCapture(0)\n",
    "while(True):\n",
    "    ret,frame=cam.read()\n",
    "    cv2.imshow(\"webcam\",frame)\n",
    "    if cv2.waitKey(1) == ord(\"z\"):\n",
    "        break\n",
    "cam.release()\n",
    "cv2.destroyAllWindows()"
   ]
  },
  {
   "cell_type": "code",
   "execution_count": null,
   "id": "6259beea-8f69-45c8-a34b-79642e245861",
   "metadata": {},
   "outputs": [],
   "source": []
  }
 ],
 "metadata": {
  "kernelspec": {
   "display_name": "Python 3 (ipykernel)",
   "language": "python",
   "name": "python3"
  },
  "language_info": {
   "codemirror_mode": {
    "name": "ipython",
    "version": 3
   },
   "file_extension": ".py",
   "mimetype": "text/x-python",
   "name": "python",
   "nbconvert_exporter": "python",
   "pygments_lexer": "ipython3",
   "version": "3.12.7"
  }
 },
 "nbformat": 4,
 "nbformat_minor": 5
}
